{
 "cells": [
  {
   "cell_type": "markdown",
   "id": "83b7c961",
   "metadata": {},
   "source": [
    "# Pandas vs Pickle vs Parquet vs Feather"
   ]
  },
  {
   "cell_type": "markdown",
   "id": "c29cdea7",
   "metadata": {},
   "source": [
    "<pre>\n",
    "데이터 분석을 하다보면 Pandas를 이용하여 파일을 저장하곤 한다.\n",
    "대규모 데이터 세트로 작업할 때 데이터를 저장해야 할 때, 공유하기 쉽고 보편적인 이유로 CSV를 파일형식으로 선택한다.\n",
    "CSV외에도 데이터를 저장하는 방식인 pickle, parquet, feather을 사용해보고 그 속도와 용량을 체크해본다.\n",
    "</pre>"
   ]
  },
  {
   "cell_type": "code",
   "execution_count": 1,
   "id": "65b7f4ba",
   "metadata": {},
   "outputs": [],
   "source": [
    "# !pip install pyarrow\n",
    "# !pip install fastparquet"
   ]
  },
  {
   "cell_type": "code",
   "execution_count": 2,
   "id": "dbdcadce",
   "metadata": {},
   "outputs": [],
   "source": [
    "import numpy as np\n",
    "import pandas as pd"
   ]
  },
  {
   "cell_type": "code",
   "execution_count": 3,
   "id": "be5d4350",
   "metadata": {},
   "outputs": [],
   "source": [
    "def get_dataset(size):\n",
    "    \"\"\"Create Fake Dataset: Food, Color, Age, Date, Bool, Prob\n",
    "    Args:\n",
    "        size (int): Size of Fake Dataset\n",
    "\n",
    "    Returns:\n",
    "        df (pd.DataFrame): Fake Dataset\n",
    "    \"\"\"\n",
    "    df = pd.DataFrame()\n",
    "    df['Food'] = np.random.choice(['Chicken','Pizza','Bread', 'Cheese', 'Meat'], size)\n",
    "    df['Color'] = np.random.choice(['Red','Blue','Yellow','Green', 'Black'], size)\n",
    "    df['Age'] = np.random.randint(1, 99, size)\n",
    "    dates = pd.date_range('2022-01-01', '2099-12-31')\n",
    "    df['date'] = np.random.choice(dates, size)\n",
    "    df['Bool'] = np.random.choice(['yes','no'], size)\n",
    "    df['Prob'] = np.random.uniform(0, 1, size)\n",
    "    return df"
   ]
  },
  {
   "cell_type": "markdown",
   "id": "2ccae4df",
   "metadata": {},
   "source": [
    "### Reading and writing CSV"
   ]
  },
  {
   "cell_type": "code",
   "execution_count": 4,
   "id": "2b9584c1",
   "metadata": {},
   "outputs": [
    {
     "name": "stdout",
     "output_type": "stream",
     "text": [
      "Wall time: 45.9 s\n",
      "Wall time: 2.68 s\n"
     ]
    }
   ],
   "source": [
    "df = get_dataset(5_000_000)\n",
    "%time df.to_csv('test.csv')\n",
    "%time df_csv = pd.read_csv('test.csv')"
   ]
  },
  {
   "cell_type": "code",
   "execution_count": 5,
   "id": "7b7034ca",
   "metadata": {},
   "outputs": [
    {
     "name": "stdout",
     "output_type": "stream",
     "text": [
      " C 드라이브의 볼륨에는 이름이 없습니다.\n",
      " 볼륨 일련 번호: 6641-4ECE\n",
      "\n",
      " C:\\Users\\asdm1\\OneDrive\\바탕 화면\\KyuHanSeok\\공부\\머신러닝\\Pandas 디렉터리\n",
      "\n",
      "2023-01-19  오후 10:21       287,281,863 test.csv\n",
      "               1개 파일         287,281,863 바이트\n",
      "               0개 디렉터리  123,222,245,376 바이트 남음\n"
     ]
    }
   ],
   "source": [
    "# 파일 용량 체크\n",
    "!dir /a test.csv"
   ]
  },
  {
   "cell_type": "code",
   "execution_count": 6,
   "id": "ac388ab2",
   "metadata": {},
   "outputs": [
    {
     "name": "stdout",
     "output_type": "stream",
     "text": [
      "<class 'pandas.core.frame.DataFrame'>\n",
      "RangeIndex: 5000000 entries, 0 to 4999999\n",
      "Data columns (total 6 columns):\n",
      " #   Column  Dtype         \n",
      "---  ------  -----         \n",
      " 0   Food    object        \n",
      " 1   Color   object        \n",
      " 2   Age     int32         \n",
      " 3   date    datetime64[ns]\n",
      " 4   Bool    object        \n",
      " 5   Prob    float64       \n",
      "dtypes: datetime64[ns](1), float64(1), int32(1), object(3)\n",
      "memory usage: 209.8+ MB\n"
     ]
    }
   ],
   "source": [
    "# 데이터 타입 및 메모리 사용량 체크\n",
    "df.info()"
   ]
  },
  {
   "cell_type": "markdown",
   "id": "ddea2fb4",
   "metadata": {},
   "source": [
    "### Reading and writing Pickle"
   ]
  },
  {
   "cell_type": "code",
   "execution_count": 7,
   "id": "c9a2190d",
   "metadata": {},
   "outputs": [
    {
     "name": "stdout",
     "output_type": "stream",
     "text": [
      "Wall time: 4.71 s\n",
      "Wall time: 1.34 s\n"
     ]
    }
   ],
   "source": [
    "df = get_dataset(5_000_000)\n",
    "%time df.to_pickle('test.pickle')\n",
    "%time df_pickle = pd.read_pickle('test.pickle')"
   ]
  },
  {
   "cell_type": "code",
   "execution_count": 8,
   "id": "26de8607",
   "metadata": {},
   "outputs": [
    {
     "name": "stdout",
     "output_type": "stream",
     "text": [
      " C 드라이브의 볼륨에는 이름이 없습니다.\n",
      " 볼륨 일련 번호: 6641-4ECE\n",
      "\n",
      " C:\\Users\\asdm1\\OneDrive\\바탕 화면\\KyuHanSeok\\공부\\머신러닝\\Pandas 디렉터리\n",
      "\n",
      "2023-01-19  오후 10:21       207,549,317 test.pickle\n",
      "               1개 파일         207,549,317 바이트\n",
      "               0개 디렉터리  123,008,770,048 바이트 남음\n"
     ]
    }
   ],
   "source": [
    "# 파일 용량 체크\n",
    "!dir /a test.pickle"
   ]
  },
  {
   "cell_type": "code",
   "execution_count": 9,
   "id": "f95bb4c2",
   "metadata": {},
   "outputs": [
    {
     "name": "stdout",
     "output_type": "stream",
     "text": [
      "<class 'pandas.core.frame.DataFrame'>\n",
      "RangeIndex: 5000000 entries, 0 to 4999999\n",
      "Data columns (total 6 columns):\n",
      " #   Column  Dtype         \n",
      "---  ------  -----         \n",
      " 0   Food    object        \n",
      " 1   Color   object        \n",
      " 2   Age     int32         \n",
      " 3   date    datetime64[ns]\n",
      " 4   Bool    object        \n",
      " 5   Prob    float64       \n",
      "dtypes: datetime64[ns](1), float64(1), int32(1), object(3)\n",
      "memory usage: 209.8+ MB\n"
     ]
    }
   ],
   "source": [
    "# 데이터 타입 및 메모리 사용량 체크\n",
    "df.info()"
   ]
  },
  {
   "cell_type": "markdown",
   "id": "5a4a73d5",
   "metadata": {},
   "source": [
    "### Reading and writing Parquet"
   ]
  },
  {
   "cell_type": "code",
   "execution_count": 10,
   "id": "fffcf7e5",
   "metadata": {},
   "outputs": [
    {
     "name": "stdout",
     "output_type": "stream",
     "text": [
      "Wall time: 2.1 s\n",
      "Wall time: 798 ms\n"
     ]
    }
   ],
   "source": [
    "df = get_dataset(5_000_000)\n",
    "%time df.to_parquet('test.parquet')\n",
    "%time df_parquet = pd.read_parquet('test.parquet')"
   ]
  },
  {
   "cell_type": "code",
   "execution_count": 11,
   "id": "bc915dfd",
   "metadata": {},
   "outputs": [
    {
     "name": "stdout",
     "output_type": "stream",
     "text": [
      " C 드라이브의 볼륨에는 이름이 없습니다.\n",
      " 볼륨 일련 번호: 6641-4ECE\n",
      "\n",
      " C:\\Users\\asdm1\\OneDrive\\바탕 화면\\KyuHanSeok\\공부\\머신러닝\\Pandas 디렉터리\n",
      "\n",
      "2023-01-19  오후 10:21        58,684,566 test.parquet\n",
      "               1개 파일          58,684,566 바이트\n",
      "               0개 디렉터리  122,944,217,088 바이트 남음\n"
     ]
    }
   ],
   "source": [
    "# 파일 용량 체크\n",
    "!dir /a test.parquet"
   ]
  },
  {
   "cell_type": "code",
   "execution_count": 12,
   "id": "a9107f7f",
   "metadata": {},
   "outputs": [
    {
     "name": "stdout",
     "output_type": "stream",
     "text": [
      "<class 'pandas.core.frame.DataFrame'>\n",
      "RangeIndex: 5000000 entries, 0 to 4999999\n",
      "Data columns (total 6 columns):\n",
      " #   Column  Dtype         \n",
      "---  ------  -----         \n",
      " 0   Food    object        \n",
      " 1   Color   object        \n",
      " 2   Age     int32         \n",
      " 3   date    datetime64[ns]\n",
      " 4   Bool    object        \n",
      " 5   Prob    float64       \n",
      "dtypes: datetime64[ns](1), float64(1), int32(1), object(3)\n",
      "memory usage: 209.8+ MB\n"
     ]
    }
   ],
   "source": [
    "# 데이터 타입 및 메모리 사용량 체크\n",
    "df.info()"
   ]
  },
  {
   "cell_type": "markdown",
   "id": "7fa24406",
   "metadata": {},
   "source": [
    "### Reading and writing Feather"
   ]
  },
  {
   "cell_type": "code",
   "execution_count": 13,
   "id": "5c90b6e1",
   "metadata": {},
   "outputs": [
    {
     "name": "stdout",
     "output_type": "stream",
     "text": [
      "Wall time: 917 ms\n",
      "Wall time: 588 ms\n"
     ]
    }
   ],
   "source": [
    "df = get_dataset(5_000_000)\n",
    "%time df.to_feather('test.feather')\n",
    "%time df_feather = pd.read_feather('test.feather')"
   ]
  },
  {
   "cell_type": "code",
   "execution_count": 14,
   "id": "2b45689e",
   "metadata": {},
   "outputs": [
    {
     "name": "stdout",
     "output_type": "stream",
     "text": [
      " C 드라이브의 볼륨에는 이름이 없습니다.\n",
      " 볼륨 일련 번호: 6641-4ECE\n",
      "\n",
      " C:\\Users\\asdm1\\OneDrive\\바탕 화면\\KyuHanSeok\\공부\\머신러닝\\Pandas 디렉터리\n",
      "\n",
      "2023-01-19  오후 10:22       172,237,818 test.feather\n",
      "               1개 파일         172,237,818 바이트\n",
      "               0개 디렉터리  122,766,139,392 바이트 남음\n"
     ]
    }
   ],
   "source": [
    "# 파일 용량 체크\n",
    "!dir /a test.feather"
   ]
  },
  {
   "cell_type": "code",
   "execution_count": 15,
   "id": "441b776b",
   "metadata": {},
   "outputs": [
    {
     "name": "stdout",
     "output_type": "stream",
     "text": [
      "<class 'pandas.core.frame.DataFrame'>\n",
      "RangeIndex: 5000000 entries, 0 to 4999999\n",
      "Data columns (total 6 columns):\n",
      " #   Column  Dtype         \n",
      "---  ------  -----         \n",
      " 0   Food    object        \n",
      " 1   Color   object        \n",
      " 2   Age     int32         \n",
      " 3   date    datetime64[ns]\n",
      " 4   Bool    object        \n",
      " 5   Prob    float64       \n",
      "dtypes: datetime64[ns](1), float64(1), int32(1), object(3)\n",
      "memory usage: 209.8+ MB\n"
     ]
    }
   ],
   "source": [
    "# 데이터 타입 및 메모리 사용량 체크\n",
    "df.info()"
   ]
  },
  {
   "cell_type": "markdown",
   "id": "68df5c56",
   "metadata": {},
   "source": [
    "### 비교해보자"
   ]
  },
  {
   "cell_type": "code",
   "execution_count": 16,
   "id": "14c06d64",
   "metadata": {},
   "outputs": [
    {
     "name": "stdout",
     "output_type": "stream",
     "text": [
      " C 드라이브의 볼륨에는 이름이 없습니다.\n",
      " 볼륨 일련 번호: 6641-4ECE\n",
      "\n",
      " C:\\Users\\asdm1\\OneDrive\\바탕 화면\\KyuHanSeok\\공부\\머신러닝\\Pandas 디렉터리\n",
      "\n",
      "2023-01-19  오후 10:22    <DIR>          .\n",
      "2023-01-19  오후 09:21    <DIR>          ..\n",
      "2023-01-19  오후 09:22    <DIR>          .ipynb_checkpoints\n",
      "2023-01-19  오후 10:20           172,461 Pandas vs Pickle vs Parquet vs Feather.ipynb\n",
      "2023-01-19  오후 10:21       287,281,863 test.csv\n",
      "2023-01-19  오후 10:22       172,237,818 test.feather\n",
      "2023-01-19  오후 10:21        58,684,566 test.parquet\n",
      "2023-01-19  오후 10:21       207,549,317 test.pickle\n",
      "               5개 파일         725,926,025 바이트\n",
      "               3개 디렉터리  122,766,139,392 바이트 남음\n"
     ]
    }
   ],
   "source": [
    "!dir /a"
   ]
  },
  {
   "cell_type": "markdown",
   "id": "4faab949",
   "metadata": {},
   "source": [
    "<pre>\n",
    "메모리 사용량은 모두 똑같고 파일 용량은 parquet로 저장한 파일의 용량이 가장 적다.\n",
    "</pre>"
   ]
  },
  {
   "cell_type": "code",
   "execution_count": 32,
   "id": "e5adfee6",
   "metadata": {},
   "outputs": [
    {
     "data": {
      "text/html": [
       "<div>\n",
       "<style scoped>\n",
       "    .dataframe tbody tr th:only-of-type {\n",
       "        vertical-align: middle;\n",
       "    }\n",
       "\n",
       "    .dataframe tbody tr th {\n",
       "        vertical-align: top;\n",
       "    }\n",
       "\n",
       "    .dataframe thead th {\n",
       "        text-align: right;\n",
       "    }\n",
       "</style>\n",
       "<table border=\"1\" class=\"dataframe\">\n",
       "  <thead>\n",
       "    <tr style=\"text-align: right;\">\n",
       "      <th></th>\n",
       "      <th>Write Time</th>\n",
       "      <th>Read Time</th>\n",
       "      <th>File Size</th>\n",
       "    </tr>\n",
       "  </thead>\n",
       "  <tbody>\n",
       "    <tr>\n",
       "      <th>csv</th>\n",
       "      <td>45.900</td>\n",
       "      <td>2.680</td>\n",
       "      <td>273.975945</td>\n",
       "    </tr>\n",
       "    <tr>\n",
       "      <th>picke</th>\n",
       "      <td>4.710</td>\n",
       "      <td>1.340</td>\n",
       "      <td>197.932311</td>\n",
       "    </tr>\n",
       "    <tr>\n",
       "      <th>parquet</th>\n",
       "      <td>2.100</td>\n",
       "      <td>0.798</td>\n",
       "      <td>55.965829</td>\n",
       "    </tr>\n",
       "    <tr>\n",
       "      <th>feather</th>\n",
       "      <td>0.917</td>\n",
       "      <td>0.588</td>\n",
       "      <td>164.257174</td>\n",
       "    </tr>\n",
       "  </tbody>\n",
       "</table>\n",
       "</div>"
      ],
      "text/plain": [
       "         Write Time  Read Time   File Size\n",
       "csv          45.900      2.680  273.975945\n",
       "picke         4.710      1.340  197.932311\n",
       "parquet       2.100      0.798   55.965829\n",
       "feather       0.917      0.588  164.257174"
      ]
     },
     "execution_count": 32,
     "metadata": {},
     "output_type": "execute_result"
    }
   ],
   "source": [
    "# bytes --> mb\n",
    "file_sizes = [287_284_601/1024/1024,\n",
    "              207_547_071/1024/1024,\n",
    "              58_684_425/1024/1024,\n",
    "              172_236_130/1024/1024]\n",
    "#\n",
    "csv = [45.9, 2.68, file_sizes[0]]\n",
    "pickle = [4.71, 1.34, file_sizes[1]]\n",
    "parquet = [2.1, 0.798, file_sizes[2]]\n",
    "feather = [0.917, 0.588, file_sizes[3]]\n",
    "columns = [\"Write Time\", \"Read Time\", \"File Size\"]\n",
    "\n",
    "df_compare = pd.DataFrame({'csv' : csv, \n",
    "                   'picke' : pickle, \n",
    "                   'parquet' : parquet,\n",
    "                   'feather': feather},\n",
    "                  index = columns).T\n",
    "df_compare"
   ]
  },
  {
   "cell_type": "code",
   "execution_count": 33,
   "id": "b7e1b431",
   "metadata": {},
   "outputs": [
    {
     "data": {
      "image/png": "[encoded data removed]",
      "text/plain": [
       "<Figure size 1200x300 with 1 Axes>"
      ]
     },
     "metadata": {},
     "output_type": "display_data"
    }
   ],
   "source": [
    "import matplotlib.pyplot as plt\n",
    "\n",
    "# 그림 사이즈, 바 굵기 조정\n",
    "fig, ax = plt.subplots(figsize=(12,3))\n",
    "bar_width = 0.25\n",
    "\n",
    "# 항목이 4개이므로 0, 1, 2, 3 위치를 기준으로 삼음\n",
    "index = np.arange(4)\n",
    "\n",
    "# 각 항목별로 2개 bar를 순서대로 나타내는 과정, 각 그래프는 0.25의 간격을 두고 그려짐\n",
    "plt.bar(index, df_compare['Write Time'], bar_width, alpha=0.4, color='red', label='Write Time')\n",
    "plt.bar(index + bar_width, df_compare['Read Time'], bar_width, alpha=0.4, color='blue', label='Read Time')\n",
    "\n",
    "# x축 위치를 정 가운데로 조정하고 x축의 텍스트를 year 정보와 매칭\n",
    "plt.xticks(np.arange(bar_width, 4 + bar_width, 1), df_compare.index.to_list())\n",
    "\n",
    "# x축, y축 이름 및 범례 설정\n",
    "plt.xlabel('Type', size = 13)\n",
    "plt.ylabel('Seconds', size = 13)\n",
    "plt.legend()\n",
    "plt.title(\"Read & Write Time\")\n",
    "plt.show()"
   ]
  },
  {
   "cell_type": "markdown",
   "id": "327f02b2",
   "metadata": {},
   "source": [
    "<pre>\n",
    "네 가지 파일 타입 중 읽고 쓰는 시간이 가장 빨랐던 타입은 feather이며 parquet, pickle, csv 순서로 나타났다.\n",
    "CSV의 경우 읽는 시간은 다른 파일 타입의 읽는 시간보다 최대 2,1 초 정도 밖에 차이가 나지 않았으나,\n",
    "파일을 기록/저장하는 시간의 경우 다른 타입 대비 40초 정도 차이가 났다.\n",
    "</pre>"
   ]
  },
  {
   "cell_type": "code",
   "execution_count": 34,
   "id": "51ce0850",
   "metadata": {},
   "outputs": [
    {
     "data": {
      "image/png": "[encoded data removed]",
      "text/plain": [
       "<Figure size 1200x300 with 1 Axes>"
      ]
     },
     "metadata": {},
     "output_type": "display_data"
    }
   ],
   "source": [
    "# 그림 사이즈, 바 굵기 조정\n",
    "fig, ax = plt.subplots(figsize=(12,3))\n",
    "bar_width = 0.25\n",
    "\n",
    "# 항목이 4개이므로 0, 1, 2, 3 위치를 기준으로 삼음\n",
    "index = np.arange(4)\n",
    "\n",
    "# 각 항목별로 2개 bar를 순서대로 나타내는 과정, 각 그래프는 0.25의 간격을 두고 그려짐\n",
    "plt.bar(index, df_compare['File Size'], bar_width, alpha=0.4, color='Green', label='File Size')\n",
    "\n",
    "# x축 위치를 정 가운데로 조정하고 x축의 텍스트를 year 정보와 매칭\n",
    "plt.xticks(index, df_compare.index.to_list())\n",
    "\n",
    "# x축, y축 이름 및 범례 설정\n",
    "plt.xlabel('Type', size = 13)\n",
    "plt.ylabel('MegaByte', size = 13)\n",
    "plt.legend()\n",
    "plt.title(\"File Size\")\n",
    "plt.show()"
   ]
  },
  {
   "cell_type": "markdown",
   "id": "9be16775",
   "metadata": {},
   "source": [
    "<pre>\n",
    "네 가지 파일 타입 중 저장 용량이 가장 작았던 타입은 parquet이며 feather, pickle, csv 순서로 나타났다.\n",
    "CSV의 경우 parquet 대비 약 5배가 넘는 용량을 보였으며 나머지 두 타입의 경우 3배 정도 차이가 났으며 서로 비슷한 수치를 보였다.\n",
    "</pre>"
   ]
  },
  {
   "cell_type": "markdown",
   "id": "ae36902c",
   "metadata": {},
   "source": [
    "메모리 사용량은 209mb 정도로 동일했는데, 이를 줄여서 한번 더 비교해보자."
   ]
  },
  {
   "cell_type": "code",
   "execution_count": 20,
   "id": "ddf43589",
   "metadata": {},
   "outputs": [],
   "source": [
    "def set_dtypes(df):\n",
    "    \"\"\"Set Data Types\n",
    "    Args:\n",
    "        df (pd.DataFrame): Fake Dataset\n",
    "\n",
    "    Returns:\n",
    "        df (pd.DataFrame): Fake Dataset\n",
    "    \"\"\"\n",
    "    df['Food'] = df['Food'].astype('category')\n",
    "    df['Color'] = df['Color'].astype('category')\n",
    "    df['Age'] = df['Age'].astype('int16')\n",
    "    df['Bool'] = df['Bool'].map({'yes':True, 'no': False})\n",
    "    df['Prob'] = df['Prob'].astype('float32')\n",
    "    return df"
   ]
  },
  {
   "cell_type": "code",
   "execution_count": 42,
   "id": "8e6e950c",
   "metadata": {},
   "outputs": [
    {
     "name": "stdout",
     "output_type": "stream",
     "text": [
      "Reading and writing CSV\n",
      "<class 'pandas.core.frame.DataFrame'>\n",
      "RangeIndex: 5000000 entries, 0 to 4999999\n",
      "Data columns (total 6 columns):\n",
      " #   Column  Dtype         \n",
      "---  ------  -----         \n",
      " 0   Food    category      \n",
      " 1   Color   category      \n",
      " 2   Age     int16         \n",
      " 3   date    datetime64[ns]\n",
      " 4   Bool    bool          \n",
      " 5   Prob    float32       \n",
      "dtypes: bool(1), category(2), datetime64[ns](1), float32(1), int16(1)\n",
      "memory usage: 81.1 MB\n",
      "None\n",
      "Wall time: 31.3 s\n",
      "Wall time: 2.57 s\n",
      "<class 'pandas.core.frame.DataFrame'>\n",
      "RangeIndex: 5000000 entries, 0 to 4999999\n",
      "Data columns (total 7 columns):\n",
      " #   Column      Dtype  \n",
      "---  ------      -----  \n",
      " 0   Unnamed: 0  int64  \n",
      " 1   Food        object \n",
      " 2   Color       object \n",
      " 3   Age         int64  \n",
      " 4   date        object \n",
      " 5   Bool        bool   \n",
      " 6   Prob        float64\n",
      "dtypes: bool(1), float64(1), int64(2), object(3)\n",
      "memory usage: 233.7+ MB\n",
      "None\n"
     ]
    }
   ],
   "source": [
    "print('Reading and writing CSV')\n",
    "df = get_dataset(5_000_000)\n",
    "df = set_dtypes(df)\n",
    "\n",
    "print(df.info())\n",
    "%time df.to_csv('test.csv')\n",
    "%time df_csv = pd.read_csv('test.csv')\n",
    "print(df_csv.info())"
   ]
  },
  {
   "cell_type": "markdown",
   "id": "5811e539",
   "metadata": {},
   "source": [
    "Unnamed: 0  int64 칼럼이 추가되었으며 데이터 타입을 인지하지 못했으며  233.7+ MB의 메모리를 사용하였다."
   ]
  },
  {
   "cell_type": "code",
   "execution_count": 43,
   "id": "162c8ad5",
   "metadata": {},
   "outputs": [
    {
     "name": "stdout",
     "output_type": "stream",
     "text": [
      "Reading and writing Pickle\n",
      "<class 'pandas.core.frame.DataFrame'>\n",
      "RangeIndex: 5000000 entries, 0 to 4999999\n",
      "Data columns (total 6 columns):\n",
      " #   Column  Dtype         \n",
      "---  ------  -----         \n",
      " 0   Food    category      \n",
      " 1   Color   category      \n",
      " 2   Age     int16         \n",
      " 3   date    datetime64[ns]\n",
      " 4   Bool    bool          \n",
      " 5   Prob    float32       \n",
      "dtypes: bool(1), category(2), datetime64[ns](1), float32(1), int16(1)\n",
      "memory usage: 81.1 MB\n",
      "None\n",
      "Wall time: 207 ms\n",
      "Wall time: 47.1 ms\n",
      "<class 'pandas.core.frame.DataFrame'>\n",
      "RangeIndex: 5000000 entries, 0 to 4999999\n",
      "Data columns (total 6 columns):\n",
      " #   Column  Dtype         \n",
      "---  ------  -----         \n",
      " 0   Food    category      \n",
      " 1   Color   category      \n",
      " 2   Age     int16         \n",
      " 3   date    datetime64[ns]\n",
      " 4   Bool    bool          \n",
      " 5   Prob    float32       \n",
      "dtypes: bool(1), category(2), datetime64[ns](1), float32(1), int16(1)\n",
      "memory usage: 81.1 MB\n",
      "None\n"
     ]
    }
   ],
   "source": [
    "print('Reading and writing Pickle')\n",
    "df = get_dataset(5_000_000)\n",
    "df = set_dtypes(df)\n",
    "\n",
    "print(df.info())\n",
    "%time df.to_pickle('test.pickle')\n",
    "%time df_pickle = pd.read_pickle('test.pickle')\n",
    "print(df_pickle.info())"
   ]
  },
  {
   "cell_type": "markdown",
   "id": "744093b1",
   "metadata": {},
   "source": [
    "추가되는 칼럼이 없었으며 데이터 타입을 인지하였다."
   ]
  },
  {
   "cell_type": "code",
   "execution_count": 44,
   "id": "a9be40cb",
   "metadata": {},
   "outputs": [
    {
     "name": "stdout",
     "output_type": "stream",
     "text": [
      "Reading and writing Parquet\n",
      "<class 'pandas.core.frame.DataFrame'>\n",
      "RangeIndex: 5000000 entries, 0 to 4999999\n",
      "Data columns (total 6 columns):\n",
      " #   Column  Dtype         \n",
      "---  ------  -----         \n",
      " 0   Food    category      \n",
      " 1   Color   category      \n",
      " 2   Age     int16         \n",
      " 3   date    datetime64[ns]\n",
      " 4   Bool    bool          \n",
      " 5   Prob    float32       \n",
      "dtypes: bool(1), category(2), datetime64[ns](1), float32(1), int16(1)\n",
      "memory usage: 81.1 MB\n",
      "None\n",
      "Wall time: 418 ms\n",
      "Wall time: 146 ms\n",
      "<class 'pandas.core.frame.DataFrame'>\n",
      "RangeIndex: 5000000 entries, 0 to 4999999\n",
      "Data columns (total 6 columns):\n",
      " #   Column  Dtype         \n",
      "---  ------  -----         \n",
      " 0   Food    category      \n",
      " 1   Color   category      \n",
      " 2   Age     int16         \n",
      " 3   date    datetime64[ns]\n",
      " 4   Bool    bool          \n",
      " 5   Prob    float32       \n",
      "dtypes: bool(1), category(2), datetime64[ns](1), float32(1), int16(1)\n",
      "memory usage: 81.1 MB\n",
      "None\n"
     ]
    }
   ],
   "source": [
    "print('Reading and writing Parquet')\n",
    "df = get_dataset(5_000_000)\n",
    "df = set_dtypes(df)\n",
    "\n",
    "print(df.info())\n",
    "%time df.to_parquet('test.parquet')\n",
    "%time df_parquet = pd.read_parquet('test.parquet')\n",
    "print(df_parquet.info())"
   ]
  },
  {
   "cell_type": "markdown",
   "id": "fa6713aa",
   "metadata": {},
   "source": [
    "추가되는 칼럼이 없었으며 데이터 타입을 인지하였다."
   ]
  },
  {
   "cell_type": "code",
   "execution_count": 45,
   "id": "bfdb7d16",
   "metadata": {},
   "outputs": [
    {
     "name": "stdout",
     "output_type": "stream",
     "text": [
      "Reading and writing Feather\n",
      "<class 'pandas.core.frame.DataFrame'>\n",
      "RangeIndex: 5000000 entries, 0 to 4999999\n",
      "Data columns (total 6 columns):\n",
      " #   Column  Dtype         \n",
      "---  ------  -----         \n",
      " 0   Food    category      \n",
      " 1   Color   category      \n",
      " 2   Age     int16         \n",
      " 3   date    datetime64[ns]\n",
      " 4   Bool    bool          \n",
      " 5   Prob    float32       \n",
      "dtypes: bool(1), category(2), datetime64[ns](1), float32(1), int16(1)\n",
      "memory usage: 81.1 MB\n",
      "None\n",
      "Wall time: 126 ms\n",
      "Wall time: 109 ms\n",
      "<class 'pandas.core.frame.DataFrame'>\n",
      "RangeIndex: 5000000 entries, 0 to 4999999\n",
      "Data columns (total 6 columns):\n",
      " #   Column  Dtype         \n",
      "---  ------  -----         \n",
      " 0   Food    category      \n",
      " 1   Color   category      \n",
      " 2   Age     int16         \n",
      " 3   date    datetime64[ns]\n",
      " 4   Bool    bool          \n",
      " 5   Prob    float32       \n",
      "dtypes: bool(1), category(2), datetime64[ns](1), float32(1), int16(1)\n",
      "memory usage: 81.1 MB\n",
      "None\n"
     ]
    }
   ],
   "source": [
    "print('Reading and writing Feather')\n",
    "df = get_dataset(5_000_000)\n",
    "df = set_dtypes(df)\n",
    "\n",
    "print(df.info())\n",
    "%time df.to_feather('test.feather')\n",
    "%time df_feather = pd.read_feather('test.feather')\n",
    "print(df_feather.info())"
   ]
  },
  {
   "cell_type": "markdown",
   "id": "2173c395",
   "metadata": {},
   "source": [
    "추가되는 칼럼이 없었으며 데이터 타입을 인지하였다."
   ]
  },
  {
   "cell_type": "code",
   "execution_count": 25,
   "id": "b76c0c65",
   "metadata": {},
   "outputs": [
    {
     "name": "stdout",
     "output_type": "stream",
     "text": [
      " C 드라이브의 볼륨에는 이름이 없습니다.\n",
      " 볼륨 일련 번호: 6641-4ECE\n",
      "\n",
      " C:\\Users\\asdm1\\OneDrive\\바탕 화면\\KyuHanSeok\\공부\\머신러닝\\Pandas 디렉터리\n",
      "\n",
      "2023-01-19  오후 10:22    <DIR>          .\n",
      "2023-01-19  오후 09:21    <DIR>          ..\n",
      "2023-01-19  오후 09:22    <DIR>          .ipynb_checkpoints\n",
      "2023-01-19  오후 10:22            72,214 Pandas vs Pickle vs Parquet vs Feather.ipynb\n",
      "2023-01-19  오후 10:22       254,073,113 test.csv\n",
      "2023-01-19  오후 10:22        75,588,306 test.feather\n",
      "2023-01-19  오후 10:22        39,008,977 test.parquet\n",
      "2023-01-19  오후 10:22        85,001,843 test.pickle\n",
      "               5개 파일         453,744,453 바이트\n",
      "               3개 디렉터리  123,010,211,840 바이트 남음\n"
     ]
    }
   ],
   "source": [
    "!dir /a"
   ]
  },
  {
   "cell_type": "markdown",
   "id": "24dd557c",
   "metadata": {},
   "source": [
    "<pre>\n",
    "사용 메모리가 209MB에서 81.1 MB로 대폭 줄었으며\n",
    "읽고 쓰는 속도와 파일 용량이 훨씬 더 줄었다.\n",
    "데이터 타입 변경 후와 비교하여 나타내보자.\n",
    "<pre>"
   ]
  },
  {
   "cell_type": "code",
   "execution_count": 46,
   "id": "a8e9b3ea",
   "metadata": {},
   "outputs": [
    {
     "data": {
      "text/html": [
       "<div>\n",
       "<style scoped>\n",
       "    .dataframe tbody tr th:only-of-type {\n",
       "        vertical-align: middle;\n",
       "    }\n",
       "\n",
       "    .dataframe tbody tr th {\n",
       "        vertical-align: top;\n",
       "    }\n",
       "\n",
       "    .dataframe thead th {\n",
       "        text-align: right;\n",
       "    }\n",
       "</style>\n",
       "<table border=\"1\" class=\"dataframe\">\n",
       "  <thead>\n",
       "    <tr style=\"text-align: right;\">\n",
       "      <th></th>\n",
       "      <th>Write Time</th>\n",
       "      <th>Read Time</th>\n",
       "      <th>File Size</th>\n",
       "    </tr>\n",
       "  </thead>\n",
       "  <tbody>\n",
       "    <tr>\n",
       "      <th>csv</th>\n",
       "      <td>45.900</td>\n",
       "      <td>2.680</td>\n",
       "      <td>273.975945</td>\n",
       "    </tr>\n",
       "    <tr>\n",
       "      <th>picke</th>\n",
       "      <td>4.710</td>\n",
       "      <td>1.340</td>\n",
       "      <td>197.932311</td>\n",
       "    </tr>\n",
       "    <tr>\n",
       "      <th>parquet</th>\n",
       "      <td>2.100</td>\n",
       "      <td>0.798</td>\n",
       "      <td>55.965829</td>\n",
       "    </tr>\n",
       "    <tr>\n",
       "      <th>feather</th>\n",
       "      <td>0.917</td>\n",
       "      <td>0.588</td>\n",
       "      <td>164.257174</td>\n",
       "    </tr>\n",
       "  </tbody>\n",
       "</table>\n",
       "</div>"
      ],
      "text/plain": [
       "         Write Time  Read Time   File Size\n",
       "csv          45.900      2.680  273.975945\n",
       "picke         4.710      1.340  197.932311\n",
       "parquet       2.100      0.798   55.965829\n",
       "feather       0.917      0.588  164.257174"
      ]
     },
     "execution_count": 46,
     "metadata": {},
     "output_type": "execute_result"
    }
   ],
   "source": [
    "# 기존 파일\n",
    "# bytes --> mb\n",
    "file_sizes = [287_284_601/1024/1024,\n",
    "              207_547_071/1024/1024,\n",
    "              58_684_425/1024/1024,\n",
    "              172_236_130/1024/1024]\n",
    "#\n",
    "csv = [45.9, 2.68, file_sizes[0]]\n",
    "pickle = [4.71, 1.34, file_sizes[1]]\n",
    "parquet = [2.1, 0.798, file_sizes[2]]\n",
    "feather = [0.917, 0.588, file_sizes[3]]\n",
    "columns = [\"Write Time\", \"Read Time\", \"File Size\"]\n",
    "\n",
    "df_compare = pd.DataFrame({'csv' : csv, \n",
    "                   'picke' : pickle, \n",
    "                   'parquet' : parquet,\n",
    "                   'feather': feather},\n",
    "                  index = columns).T\n",
    "df_compare"
   ]
  },
  {
   "cell_type": "code",
   "execution_count": 47,
   "id": "5924594d",
   "metadata": {},
   "outputs": [
    {
     "data": {
      "text/html": [
       "<div>\n",
       "<style scoped>\n",
       "    .dataframe tbody tr th:only-of-type {\n",
       "        vertical-align: middle;\n",
       "    }\n",
       "\n",
       "    .dataframe tbody tr th {\n",
       "        vertical-align: top;\n",
       "    }\n",
       "\n",
       "    .dataframe thead th {\n",
       "        text-align: right;\n",
       "    }\n",
       "</style>\n",
       "<table border=\"1\" class=\"dataframe\">\n",
       "  <thead>\n",
       "    <tr style=\"text-align: right;\">\n",
       "      <th></th>\n",
       "      <th>Write Time: Converted</th>\n",
       "      <th>Read Time: Converted</th>\n",
       "      <th>File Size: Converted</th>\n",
       "    </tr>\n",
       "  </thead>\n",
       "  <tbody>\n",
       "    <tr>\n",
       "      <th>csv</th>\n",
       "      <td>31.300</td>\n",
       "      <td>2.570</td>\n",
       "      <td>242.302327</td>\n",
       "    </tr>\n",
       "    <tr>\n",
       "      <th>picke</th>\n",
       "      <td>0.207</td>\n",
       "      <td>0.041</td>\n",
       "      <td>81.064075</td>\n",
       "    </tr>\n",
       "    <tr>\n",
       "      <th>parquet</th>\n",
       "      <td>0.418</td>\n",
       "      <td>0.146</td>\n",
       "      <td>37.201806</td>\n",
       "    </tr>\n",
       "    <tr>\n",
       "      <th>feather</th>\n",
       "      <td>0.126</td>\n",
       "      <td>0.109</td>\n",
       "      <td>72.080149</td>\n",
       "    </tr>\n",
       "  </tbody>\n",
       "</table>\n",
       "</div>"
      ],
      "text/plain": [
       "         Write Time: Converted  Read Time: Converted  File Size: Converted\n",
       "csv                     31.300                 2.570            242.302327\n",
       "picke                    0.207                 0.041             81.064075\n",
       "parquet                  0.418                 0.146             37.201806\n",
       "feather                  0.126                 0.109             72.080149"
      ]
     },
     "execution_count": 47,
     "metadata": {},
     "output_type": "execute_result"
    }
   ],
   "source": [
    "# 축약된 파일\n",
    "# bytes --> mb\n",
    "file_sizes2 = [254_072_405/1024/1024,\n",
    "              85_001_843/1024/1024,\n",
    "              39_008_921/1024/1024,\n",
    "              75_581_514/1024/1024]\n",
    "#\n",
    "csv = [31.3, 2.57, file_sizes2[0]]\n",
    "pickle = [0.207, 0.041, file_sizes2[1]]\n",
    "parquet = [0.418, 0.146, file_sizes2[2]]\n",
    "feather = [0.126, 0.109, file_sizes2[3]]\n",
    "columns = [\"Write Time: Converted\", \"Read Time: Converted\", \"File Size: Converted\"]\n",
    "\n",
    "\n",
    "df_abbr = pd.DataFrame({'csv' : csv, \n",
    "                   'picke' : pickle, \n",
    "                   'parquet' : parquet,\n",
    "                   'feather': feather},\n",
    "                  index = columns).T\n",
    "df_abbr"
   ]
  },
  {
   "cell_type": "code",
   "execution_count": 48,
   "id": "cb532970",
   "metadata": {},
   "outputs": [
    {
     "data": {
      "text/html": [
       "<div>\n",
       "<style scoped>\n",
       "    .dataframe tbody tr th:only-of-type {\n",
       "        vertical-align: middle;\n",
       "    }\n",
       "\n",
       "    .dataframe tbody tr th {\n",
       "        vertical-align: top;\n",
       "    }\n",
       "\n",
       "    .dataframe thead th {\n",
       "        text-align: right;\n",
       "    }\n",
       "</style>\n",
       "<table border=\"1\" class=\"dataframe\">\n",
       "  <thead>\n",
       "    <tr style=\"text-align: right;\">\n",
       "      <th></th>\n",
       "      <th>Write Time</th>\n",
       "      <th>Read Time</th>\n",
       "      <th>File Size</th>\n",
       "      <th>Write Time: Converted</th>\n",
       "      <th>Read Time: Converted</th>\n",
       "      <th>File Size: Converted</th>\n",
       "    </tr>\n",
       "  </thead>\n",
       "  <tbody>\n",
       "    <tr>\n",
       "      <th>csv</th>\n",
       "      <td>45.900</td>\n",
       "      <td>2.680</td>\n",
       "      <td>273.975945</td>\n",
       "      <td>31.300</td>\n",
       "      <td>2.570</td>\n",
       "      <td>242.302327</td>\n",
       "    </tr>\n",
       "    <tr>\n",
       "      <th>picke</th>\n",
       "      <td>4.710</td>\n",
       "      <td>1.340</td>\n",
       "      <td>197.932311</td>\n",
       "      <td>0.207</td>\n",
       "      <td>0.041</td>\n",
       "      <td>81.064075</td>\n",
       "    </tr>\n",
       "    <tr>\n",
       "      <th>parquet</th>\n",
       "      <td>2.100</td>\n",
       "      <td>0.798</td>\n",
       "      <td>55.965829</td>\n",
       "      <td>0.418</td>\n",
       "      <td>0.146</td>\n",
       "      <td>37.201806</td>\n",
       "    </tr>\n",
       "    <tr>\n",
       "      <th>feather</th>\n",
       "      <td>0.917</td>\n",
       "      <td>0.588</td>\n",
       "      <td>164.257174</td>\n",
       "      <td>0.126</td>\n",
       "      <td>0.109</td>\n",
       "      <td>72.080149</td>\n",
       "    </tr>\n",
       "  </tbody>\n",
       "</table>\n",
       "</div>"
      ],
      "text/plain": [
       "         Write Time  Read Time   File Size  Write Time: Converted  \\\n",
       "csv          45.900      2.680  273.975945                 31.300   \n",
       "picke         4.710      1.340  197.932311                  0.207   \n",
       "parquet       2.100      0.798   55.965829                  0.418   \n",
       "feather       0.917      0.588  164.257174                  0.126   \n",
       "\n",
       "         Read Time: Converted  File Size: Converted  \n",
       "csv                     2.570            242.302327  \n",
       "picke                   0.041             81.064075  \n",
       "parquet                 0.146             37.201806  \n",
       "feather                 0.109             72.080149  "
      ]
     },
     "execution_count": 48,
     "metadata": {},
     "output_type": "execute_result"
    }
   ],
   "source": [
    "df_compare = pd.concat([df_compare, df_abbr], axis=1)\n",
    "df_compare"
   ]
  },
  {
   "cell_type": "code",
   "execution_count": 49,
   "id": "5427daa8",
   "metadata": {},
   "outputs": [
    {
     "data": {
      "image/png": "[encoded data removed]",
      "text/plain": [
       "<Figure size 1200x300 with 1 Axes>"
      ]
     },
     "metadata": {},
     "output_type": "display_data"
    }
   ],
   "source": [
    "import matplotlib.pyplot as plt\n",
    "\n",
    "# 그림 사이즈, 바 굵기 조정\n",
    "fig, ax = plt.subplots(figsize=(12,3))\n",
    "bar_width = 0.1\n",
    "\n",
    "# 항목이 4개이므로 0, 1, 2, 3 위치를 기준으로 삼음\n",
    "index = np.arange(4)\n",
    "\n",
    "# 각 항목별로 2개 bar를 순서대로 나타내는 과정, 각 그래프는 0.25의 간격을 두고 그려짐\n",
    "plt.bar(index, df_compare['Write Time'], bar_width, \n",
    "        alpha=0.4, color='red', label='Write Time')\n",
    "plt.bar(index + bar_width, df_compare['Write Time: Converted'], bar_width, \n",
    "        alpha=0.7, color='red', label='Write Time: Converted')\n",
    "plt.bar(index + 2 * bar_width, df_compare['Read Time'], bar_width, \n",
    "        alpha=0.4, color='blue', label='Read Time')\n",
    "plt.bar(index + 3 * bar_width, df_compare['Read Time: Converted'], bar_width, \n",
    "        alpha=0.7, color='blue', label='Read Time: Converted')\n",
    "\n",
    "# x축 위치를 정 가운데로 조정하고 x축의 텍스트를 year 정보와 매칭\n",
    "plt.xticks(np.arange(bar_width, 4 + bar_width, 1), df_compare.index.to_list())\n",
    "\n",
    "# x축, y축 이름 및 범례 설정\n",
    "plt.xlabel('Type', size = 13)\n",
    "plt.ylabel('Seconds', size = 13)\n",
    "plt.legend()\n",
    "plt.title(\"Read & Write Time\")\n",
    "plt.show()"
   ]
  },
  {
   "cell_type": "code",
   "execution_count": 50,
   "id": "219d954f",
   "metadata": {},
   "outputs": [
    {
     "data": {
      "image/png": "[encoded data removed]",
      "text/plain": [
       "<Figure size 1200x300 with 1 Axes>"
      ]
     },
     "execution_count": 50,
     "metadata": {},
     "output_type": "execute_result"
    }
   ],
   "source": [
    "ax.set_ylim(0, 6)\n",
    "fig"
   ]
  },
  {
   "cell_type": "markdown",
   "id": "aa02ac6e",
   "metadata": {},
   "source": [
    "<pre>\n",
    "데이터 타입을 변경한 후,\n",
    "네 가지 파일 타입 중 읽고 쓰는 시간이 가장 빨랐던 타입은 feather이며 pickle, parquet, csv 순서로 나타났다.\n",
    "파일을 저장하는 시간에서 가장 많은 비율 차이를 보인 것은 pickle 이었다.\n",
    "</pre>"
   ]
  },
  {
   "cell_type": "code",
   "execution_count": 51,
   "id": "8d88dc4a",
   "metadata": {},
   "outputs": [
    {
     "data": {
      "image/png": "[encoded data removed]",
      "text/plain": [
       "<Figure size 1200x300 with 1 Axes>"
      ]
     },
     "metadata": {},
     "output_type": "display_data"
    }
   ],
   "source": [
    "import matplotlib.pyplot as plt\n",
    "\n",
    "# 그림 사이즈, 바 굵기 조정\n",
    "fig, ax = plt.subplots(figsize=(12,3))\n",
    "bar_width = 0.25\n",
    "\n",
    "# 항목이 4개이므로 0, 1, 2, 3 위치를 기준으로 삼음\n",
    "index = np.arange(4)\n",
    "\n",
    "# 각 항목별로 2개 bar를 순서대로 나타내는 과정, 각 그래프는 0.25의 간격을 두고 그려짐\n",
    "plt.bar(index, df_compare['File Size'], bar_width, alpha=0.4, color='Green', label='File Size')\n",
    "plt.bar(index + bar_width, df_compare['File Size: Converted'], bar_width, alpha=0.7, color='Green', label='File Size: Converted')\n",
    "\n",
    "# x축 위치를 정 가운데로 조정하고 x축의 텍스트를 year 정보와 매칭\n",
    "plt.xticks(np.arange(bar_width, 4 + bar_width, 1), df_compare.index.to_list())\n",
    "\n",
    "# x축, y축 이름 및 범례 설정\n",
    "plt.xlabel('Type', size = 13)\n",
    "plt.ylabel('MegaByte', size = 13)\n",
    "plt.legend()\n",
    "plt.title(\"File Size\")\n",
    "plt.show()"
   ]
  },
  {
   "cell_type": "markdown",
   "id": "bf555825",
   "metadata": {},
   "source": [
    "<pre>\n",
    "데이터 타입을 변경한 후,\n",
    "네 가지 파일 타입 중 저장 용량이 가장 적었던 타입은 parquet이며 feather, pickle, csv 순서로 나타났다.\n",
    "파일을 저장하는 용량 차이가 가장 컸던 타입은 pickle 이었다.\n",
    "\n",
    "\n",
    "</pre>\n",
    "<pre>\n",
    "이제까지는 CSV만을 이용하여 데이터 분석을 하곤 했었는데, 다양한 종류의 데이터 형식을 접할 수 있었다.\n",
    "CSV는 위의 결과에서도 알 수 있듯이 \n",
    "많은 저장공간을 차지하여 비효율적일 수 있고 메타 데이터를 저장하지 못했으며 많은 메모리를 사용하였다.\n",
    "\n",
    "따라서 상황에 따라 알맞은 파일 형식을 취할 줄 알아야 한다.\n",
    "\n",
    "위 비교 결과는 컴퓨터 사양과 데이터 유형이 다양한 데이터 세트마다 조금씩 다를 수 있으며 \n",
    "접하는 데이터 세트마다 가장 적합한 것이 무엇인지 확인하는 것이 가장 좋겠다.\n",
    "\n",
    "오늘 처음 접하는 parquet의 장단점을 아래에 간단히 기술하였다.\n",
    "[parquet]\n",
    "- 장점: 파입 압축과 쓰기, 읽기에 탁월하다.\n",
    "        분산처리에 적합하다\n",
    "- 단점: 데이터에 2차원 배열을 쓸 수 없다. (리스트만 가능)\n",
    "</pre>"
   ]
  }
 ],
 "metadata": {
  "kernelspec": {
   "display_name": "Python 3 (ipykernel)",
   "language": "python",
   "name": "python3"
  },
  "language_info": {
   "codemirror_mode": {
    "name": "ipython",
    "version": 3
   },
   "file_extension": ".py",
   "mimetype": "text/x-python",
   "name": "python",
   "nbconvert_exporter": "python",
   "pygments_lexer": "ipython3",
   "version": "3.7.2"
  }
 },
 "nbformat": 4,
 "nbformat_minor": 5
}
